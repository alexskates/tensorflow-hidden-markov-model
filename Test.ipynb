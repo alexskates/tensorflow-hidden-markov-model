{
 "cells": [
  {
   "cell_type": "code",
   "execution_count": 1,
   "metadata": {
    "collapsed": false
   },
   "outputs": [
    {
     "name": "stderr",
     "output_type": "stream",
     "text": [
      "/Users/askates/anaconda3/envs/python3.5/lib/python3.5/site-packages/pybasicbayes/distributions/multinomial.py:21: UserWarning: using slow sample_crp_tablecounts\n",
      "  warn('using slow sample_crp_tablecounts')\n",
      "/Users/askates/anaconda3/envs/python3.5/lib/python3.5/site-packages/pybasicbayes/distributions/negativebinomial.py:25: UserWarning: using slow sample_crp_tablecounts\n",
      "  warn('using slow sample_crp_tablecounts')\n"
     ]
    }
   ],
   "source": [
    "import numpy as np\n",
    "from pybasicbayes.distributions import Gaussian\n",
    "from src.hmm_base_class import _HMM\n",
    "from src.hmm_coord_descent import VB_HMM\n",
    "import matplotlib.pyplot as plt\n",
    "import time\n",
    "import math"
   ]
  },
  {
   "cell_type": "code",
   "execution_count": 2,
   "metadata": {
    "collapsed": false
   },
   "outputs": [],
   "source": []
  },
  {
   "cell_type": "code",
   "execution_count": 33,
   "metadata": {
    "collapsed": false
   },
   "outputs": [],
   "source": []
  },
  {
   "cell_type": "code",
   "execution_count": 34,
   "metadata": {
    "collapsed": false
   },
   "outputs": [],
   "source": []
  },
  {
   "cell_type": "code",
   "execution_count": 13,
   "metadata": {
    "collapsed": false
   },
   "outputs": [
    {
     "name": "stderr",
     "output_type": "stream",
     "text": [
      "/Users/askates/anaconda3/envs/python3.5/lib/python3.5/site-packages/pybasicbayes/util/stats.py:224: VisibleDeprecationWarning: using a non-integer number instead of an integer will result in an error in the future\n",
      "  x = np.random.randn(nu,n)\n"
     ]
    }
   ],
   "source": [
    "N = 10000\n",
    "D = 2\n",
    "K = 4\n",
    "\n",
    "class HMM:\n",
    "    def __init__(self):\n",
    "        pass\n",
    "\n",
    "    def simulate(self,nSteps):\n",
    "        def drawFromMultinomial(t):\n",
    "            return np.where(np.random.multinomial(1,t) == 1)[0][0]\n",
    "\n",
    "        states = np.zeros(nSteps, dtype=np.int)\n",
    "\n",
    "        # Initial values. For sake of simplicity, there is only one initial prob vector\n",
    "        states[0] = drawFromMultinomial(self.pi)\n",
    "\n",
    "        for i in range(1,nSteps):\n",
    "            states[i] = drawFromMultinomial(self.t[states[i-1],:])\n",
    "        return states\n",
    "\n",
    "hmm = HMM()\n",
    "hmm.pi = np.array([0.25, 0.25, 0.25, 0.25])\n",
    "hmm.t = np.array([\n",
    "    [0.97, 0.03, 0.0, 0.0],\n",
    "    [0.00, 0.97, 0.03, 0.],\n",
    "    [0.0, 0.0, 0.97, 0.3],\n",
    "    [0.3, 0.0, 0.0, 0.97]])\n",
    "state_seq = hmm.simulate(N)\n",
    "\n",
    "mu = np.array([[0., 0.],[-15., 5],[10., 7],[-4., -15]])\n",
    "distributions = []\n",
    "for i in range(K):\n",
    "    distributions.append(np.random.multivariate_normal(mu[i], np.eye(D), N).T)\n",
    "\n",
    "data = np.zeros([N, D])\n",
    "for n, s in enumerate(state_seq):\n",
    "    data[n]  = distributions[s][:, n]\n",
    "\n",
    "# Initial and transition matrix prior\n",
    "A_0 = np.ones(K*K).reshape((K,K))\n",
    "pi_0 = np.ones(K)\n",
    "\n",
    "# Emission prior\n",
    "mu_0 = np.zeros(D)\n",
    "sigma_0 = np.eye(D)\n",
    "kappa_0 = 0.01\n",
    "nu_0 = 4\n",
    "\n",
    "prior_emissions = []\n",
    "for i in range(K):\n",
    "    prior_emissions.append(Gaussian(mu_0=mu_0, sigma_0=sigma_0, kappa_0=kappa_0,\n",
    "                                    nu_0=nu_0))"
   ]
  },
  {
   "cell_type": "code",
   "execution_count": 30,
   "metadata": {
    "collapsed": false
   },
   "outputs": [],
   "source": [
    "hmm = VB_HMM(data, pi_0, A_0, prior_emissions, max_iter=100)"
   ]
  },
  {
   "cell_type": "code",
   "execution_count": 15,
   "metadata": {
    "collapsed": false
   },
   "outputs": [
    {
     "name": "stdout",
     "output_type": "stream",
     "text": [
      "Iteration 0\n",
      "Current lb: -30720888356.1759 Previous lb: 10000000000.0\n",
      "Iteration 1\n",
      "Current lb: -723344663.7356794 Previous lb: -30720888356.1759\n",
      "Iteration 2\n",
      "Current lb: -723565160.9722444 Previous lb: -723344663.7356794\n",
      "Iteration 3\n",
      "Current lb: -723793703.8155308 Previous lb: -723565160.9722444\n",
      "Iteration 4\n",
      "Current lb: -724027612.2734951 Previous lb: -723793703.8155308\n",
      "Iteration 5\n",
      "Current lb: -724265672.5528283 Previous lb: -724027612.2734951\n",
      "Iteration 6\n",
      "Current lb: -724507144.0207692 Previous lb: -724265672.5528283\n",
      "Iteration 7\n",
      "Current lb: -724751517.9190073 Previous lb: -724507144.0207692\n",
      "Iteration 8\n",
      "Current lb: -724998420.4868923 Previous lb: -724751517.9190073\n",
      "Iteration 9\n",
      "Current lb: -725247564.5675029 Previous lb: -724998420.4868923\n",
      "Iteration 10\n",
      "Current lb: -725498722.2412258 Previous lb: -725247564.5675029\n",
      "Iteration 11\n",
      "Current lb: -725751708.0279977 Previous lb: -725498722.2412258\n",
      "Iteration 12\n",
      "Current lb: -726006367.9517604 Previous lb: -725751708.0279977\n",
      "Iteration 13\n",
      "Current lb: -726262572.0924904 Previous lb: -726006367.9517604\n",
      "Iteration 14\n",
      "Current lb: -726520209.3281419 Previous lb: -726262572.0924904\n",
      "Iteration 15\n",
      "Current lb: -726779183.5135738 Previous lb: -726520209.3281419\n",
      "Iteration 16\n",
      "Current lb: -727039410.6332047 Previous lb: -726779183.5135738\n",
      "Iteration 17\n",
      "Current lb: -727300816.6334773 Previous lb: -727039410.6332047\n",
      "Iteration 18\n",
      "Current lb: -727563335.7472585 Previous lb: -727300816.6334773\n",
      "Iteration 19\n",
      "Current lb: -727826909.171983 Previous lb: -727563335.7472585\n",
      "Iteration 20\n",
      "Current lb: -728091484.0179162 Previous lb: -727826909.171983\n",
      "Iteration 21\n",
      "Current lb: -728357012.4562585 Previous lb: -728091484.0179162\n",
      "Iteration 22\n",
      "Current lb: -728623451.0258201 Previous lb: -728357012.4562585\n",
      "Iteration 23\n",
      "Current lb: -728890760.0595168 Previous lb: -728623451.0258201\n",
      "Iteration 24\n",
      "Current lb: -729158903.2070278 Previous lb: -728890760.0595168\n",
      "Iteration 25\n",
      "Current lb: -729427847.0363547 Previous lb: -729158903.2070278\n",
      "Iteration 26\n",
      "Current lb: -729697560.6944404 Previous lb: -729427847.0363547\n",
      "Iteration 27\n",
      "Current lb: -729968015.6200454 Previous lb: -729697560.6944404\n",
      "Iteration 28\n",
      "Current lb: -730239185.2973174 Previous lb: -729968015.6200454\n",
      "Iteration 29\n",
      "Current lb: -730511045.0431298 Previous lb: -730239185.2973174\n",
      "Iteration 30\n",
      "Current lb: -730783571.8238702 Previous lb: -730511045.0431298\n",
      "Iteration 31\n",
      "Current lb: -731056744.0942181 Previous lb: -730783571.8238702\n",
      "Iteration 32\n",
      "Current lb: -731330541.6589233 Previous lb: -731056744.0942181\n",
      "Iteration 33\n",
      "Current lb: -731604945.5482033 Previous lb: -731330541.6589233\n",
      "Iteration 34\n",
      "Current lb: -731879937.9103042 Previous lb: -731604945.5482033\n",
      "Iteration 35\n",
      "Current lb: -732155501.9151435 Previous lb: -731879937.9103042\n",
      "Iteration 36\n",
      "Current lb: -732431621.6687534 Previous lb: -732155501.9151435\n",
      "Iteration 37\n",
      "Current lb: -732708282.1375805 Previous lb: -732431621.6687534\n",
      "Iteration 38\n",
      "Current lb: -732985469.0807374 Previous lb: -732708282.1375805\n",
      "Iteration 39\n",
      "Current lb: -733263168.9880658 Previous lb: -732985469.0807374\n",
      "Iteration 40\n",
      "Current lb: -733541369.0259099 Previous lb: -733263168.9880658\n",
      "Iteration 41\n",
      "Current lb: -733820056.9872224 Previous lb: -733541369.0259099\n",
      "Iteration 42\n",
      "Current lb: -734099221.2469752 Previous lb: -733820056.9872224\n",
      "Iteration 43\n",
      "Current lb: -734378850.7213731 Previous lb: -734099221.2469752\n",
      "Iteration 44\n",
      "Current lb: -734658934.8306384 Previous lb: -734378850.7213731\n",
      "Iteration 45\n",
      "Current lb: -734939463.4663299 Previous lb: -734658934.8306384\n",
      "Iteration 46\n",
      "Current lb: -735220426.9590601 Previous lb: -734939463.4663299\n",
      "Iteration 47\n",
      "Current lb: -735501816.0516572 Previous lb: -735220426.9590601\n",
      "Iteration 48\n",
      "Current lb: -735783621.8730247 Previous lb: -735501816.0516572\n",
      "Iteration 49\n",
      "Current lb: -736065835.9141457 Previous lb: -735783621.8730247\n",
      "Iteration 50\n",
      "Current lb: -736348450.0069789 Previous lb: -736065835.9141457\n",
      "Iteration 51\n",
      "Current lb: -736631456.3038656 Previous lb: -736348450.0069789\n",
      "Iteration 52\n",
      "Current lb: -736914847.2591326 Previous lb: -736631456.3038656\n",
      "Iteration 53\n",
      "Current lb: -737198615.6116432 Previous lb: -736914847.2591326\n",
      "Iteration 54\n",
      "Current lb: -737482754.3702848 Previous lb: -737198615.6116432\n",
      "Iteration 55\n",
      "Current lb: -737767256.797702 Previous lb: -737482754.3702848\n",
      "Iteration 56\n",
      "Current lb: -738052116.3970929 Previous lb: -737767256.797702\n",
      "Iteration 57\n",
      "Current lb: -738337326.9003584 Previous lb: -738052116.3970929\n",
      "Iteration 58\n",
      "Current lb: -738622882.2552115 Previous lb: -738337326.9003584\n",
      "Iteration 59\n",
      "Current lb: -738908776.6147454 Previous lb: -738622882.2552115\n",
      "Iteration 60\n",
      "Current lb: -739195004.3270886 Previous lb: -738908776.6147454\n",
      "Iteration 61\n",
      "Current lb: -739481559.9257016 Previous lb: -739195004.3270886\n",
      "Iteration 62\n",
      "Current lb: -739768438.1204776 Previous lb: -739481559.9257016\n",
      "Iteration 63\n",
      "Current lb: -740055633.7893627 Previous lb: -739768438.1204776\n",
      "Iteration 64\n",
      "Current lb: -740343141.9705642 Previous lb: -740055633.7893627\n",
      "Iteration 65\n",
      "Current lb: -740630957.8547167 Previous lb: -740343141.9705642\n",
      "Iteration 66\n",
      "Current lb: -740919076.7783579 Previous lb: -740630957.8547167\n",
      "Iteration 67\n",
      "Current lb: -741207494.2175306 Previous lb: -740919076.7783579\n",
      "Iteration 68\n",
      "Current lb: -741496205.781193 Previous lb: -741207494.2175306\n",
      "Iteration 69\n",
      "Current lb: -741785207.2056717 Previous lb: -741496205.781193\n",
      "Iteration 70\n",
      "Current lb: -742074494.3487678 Previous lb: -741785207.2056717\n",
      "Iteration 71\n",
      "Current lb: -742364063.185698 Previous lb: -742074494.3487678\n",
      "Iteration 72\n",
      "Current lb: -742653909.8032824 Previous lb: -742364063.185698\n",
      "Iteration 73\n",
      "Current lb: -742944030.395137 Previous lb: -742653909.8032824\n",
      "Iteration 74\n",
      "Current lb: -743234421.2582817 Previous lb: -742944030.395137\n",
      "Iteration 75\n",
      "Current lb: -743525078.7883925 Previous lb: -743234421.2582817\n",
      "Iteration 76\n",
      "Current lb: -743815999.4760128 Previous lb: -743525078.7883925\n",
      "Iteration 77\n",
      "Current lb: -744107179.9027282 Previous lb: -743815999.4760128\n",
      "Iteration 78\n",
      "Current lb: -744398616.7381617 Previous lb: -744107179.9027282\n",
      "Iteration 79\n",
      "Current lb: -744690306.7358868 Previous lb: -744398616.7381617\n",
      "Iteration 80\n",
      "Current lb: -744982246.7306578 Previous lb: -744690306.7358868\n",
      "Iteration 81\n",
      "Current lb: -745274433.6356211 Previous lb: -744982246.7306578\n",
      "Iteration 82\n",
      "Current lb: -745566864.4393986 Previous lb: -745274433.6356211\n",
      "Iteration 83\n",
      "Current lb: -745859536.2027888 Previous lb: -745566864.4393986\n",
      "Iteration 84\n",
      "Current lb: -746152446.0568964 Previous lb: -745859536.2027888\n",
      "Iteration 85\n",
      "Current lb: -746445591.1999458 Previous lb: -746152446.0568964\n",
      "Iteration 86\n",
      "Current lb: -746738968.8957963 Previous lb: -746445591.1999458\n",
      "Iteration 87\n",
      "Current lb: -747032576.4708731 Previous lb: -746738968.8957963\n",
      "Iteration 88\n",
      "Current lb: -747326411.312679 Previous lb: -747032576.4708731\n",
      "Iteration 89\n",
      "Current lb: -747620470.8670816 Previous lb: -747326411.312679\n",
      "Iteration 90\n",
      "Current lb: -747914752.6373082 Previous lb: -747620470.8670816\n",
      "Iteration 91\n",
      "Current lb: -748209254.1807685 Previous lb: -747914752.6373082\n",
      "Iteration 92\n",
      "Current lb: -748503973.1083513 Previous lb: -748209254.1807685\n",
      "Iteration 93\n",
      "Current lb: -748798907.0821905 Previous lb: -748503973.1083513\n",
      "Iteration 94\n",
      "Current lb: -749094053.8146623 Previous lb: -748798907.0821905\n",
      "Iteration 95\n",
      "Current lb: -749389411.0655206 Previous lb: -749094053.8146623\n",
      "Iteration 96\n",
      "Current lb: -749684976.6415663 Previous lb: -749389411.0655206\n",
      "Iteration 97\n",
      "Current lb: -749980748.395265 Previous lb: -749684976.6415663\n",
      "Iteration 98\n",
      "Current lb: -750276724.2221448 Previous lb: -749980748.395265\n",
      "Iteration 99\n",
      "Current lb: -750572902.0606521 Previous lb: -750276724.2221448\n"
     ]
    },
    {
     "data": {
      "text/plain": [
       "(False, array([ -3.07208884e+10,  -7.23344664e+08,  -7.23565161e+08,\n",
       "         -7.23793704e+08,  -7.24027612e+08,  -7.24265673e+08,\n",
       "         -7.24507144e+08,  -7.24751518e+08,  -7.24998420e+08,\n",
       "         -7.25247565e+08,  -7.25498722e+08,  -7.25751708e+08,\n",
       "         -7.26006368e+08,  -7.26262572e+08,  -7.26520209e+08,\n",
       "         -7.26779184e+08,  -7.27039411e+08,  -7.27300817e+08,\n",
       "         -7.27563336e+08,  -7.27826909e+08,  -7.28091484e+08,\n",
       "         -7.28357012e+08,  -7.28623451e+08,  -7.28890760e+08,\n",
       "         -7.29158903e+08,  -7.29427847e+08,  -7.29697561e+08,\n",
       "         -7.29968016e+08,  -7.30239185e+08,  -7.30511045e+08,\n",
       "         -7.30783572e+08,  -7.31056744e+08,  -7.31330542e+08,\n",
       "         -7.31604946e+08,  -7.31879938e+08,  -7.32155502e+08,\n",
       "         -7.32431622e+08,  -7.32708282e+08,  -7.32985469e+08,\n",
       "         -7.33263169e+08,  -7.33541369e+08,  -7.33820057e+08,\n",
       "         -7.34099221e+08,  -7.34378851e+08,  -7.34658935e+08,\n",
       "         -7.34939463e+08,  -7.35220427e+08,  -7.35501816e+08,\n",
       "         -7.35783622e+08,  -7.36065836e+08,  -7.36348450e+08,\n",
       "         -7.36631456e+08,  -7.36914847e+08,  -7.37198616e+08,\n",
       "         -7.37482754e+08,  -7.37767257e+08,  -7.38052116e+08,\n",
       "         -7.38337327e+08,  -7.38622882e+08,  -7.38908777e+08,\n",
       "         -7.39195004e+08,  -7.39481560e+08,  -7.39768438e+08,\n",
       "         -7.40055634e+08,  -7.40343142e+08,  -7.40630958e+08,\n",
       "         -7.40919077e+08,  -7.41207494e+08,  -7.41496206e+08,\n",
       "         -7.41785207e+08,  -7.42074494e+08,  -7.42364063e+08,\n",
       "         -7.42653910e+08,  -7.42944030e+08,  -7.43234421e+08,\n",
       "         -7.43525079e+08,  -7.43815999e+08,  -7.44107180e+08,\n",
       "         -7.44398617e+08,  -7.44690307e+08,  -7.44982247e+08,\n",
       "         -7.45274434e+08,  -7.45566864e+08,  -7.45859536e+08,\n",
       "         -7.46152446e+08,  -7.46445591e+08,  -7.46738969e+08,\n",
       "         -7.47032576e+08,  -7.47326411e+08,  -7.47620471e+08,\n",
       "         -7.47914753e+08,  -7.48209254e+08,  -7.48503973e+08,\n",
       "         -7.48798907e+08,  -7.49094054e+08,  -7.49389411e+08,\n",
       "         -7.49684977e+08,  -7.49980748e+08,  -7.50276724e+08,\n",
       "         -7.50572902e+08]))"
      ]
     },
     "execution_count": 15,
     "metadata": {},
     "output_type": "execute_result"
    }
   ],
   "source": [
    "hmm.infer()"
   ]
  },
  {
   "cell_type": "code",
   "execution_count": 25,
   "metadata": {
    "collapsed": false
   },
   "outputs": [],
   "source": [
    "def plot_emissions(data, prior_emissions, var_emissions):\n",
    "    plt.figure()\n",
    "    plt.scatter(data[:,0], data[:,1])\n",
    "    for G in prior_emissions:\n",
    "        plt.scatter(*G.mu_mf, color='green')\n",
    "    for G in var_emissions:\n",
    "        plt.scatter(*G.mu_mf, color='red')"
   ]
  },
  {
   "cell_type": "code",
   "execution_count": 26,
   "metadata": {
    "collapsed": false
   },
   "outputs": [
    {
     "data": {
      "image/png": "[encoded data removed]",
      "text/plain": [
       "<matplotlib.figure.Figure at 0x11305b4e0>"
      ]
     },
     "metadata": {},
     "output_type": "display_data"
    }
   ],
   "source": [
    "plot_emissions(hmm._obs, prior_emissions, hmm._var_emit)\n",
    "plt.show()"
   ]
  },
  {
   "cell_type": "code",
   "execution_count": 42,
   "metadata": {
    "collapsed": false
   },
   "outputs": [
    {
     "name": "stdout",
     "output_type": "stream",
     "text": [
      "[[-1477.73533889  -610.70241009  -777.81416676 -1744.15961218]\n",
      " [-1595.64415752  -610.65258376  -978.27950757 -2176.83705924]\n",
      " [ -113.09646696  -263.70119955 -1551.10715907  -771.34918681]\n",
      " ..., \n",
      " [ -130.07167853  -257.78512604 -1875.83891189 -1013.08323801]\n",
      " [ -106.60562359  -246.13906072 -1246.56949405  -832.58259505]\n",
      " [ -131.93845374  -294.06735312 -1854.84183212  -643.62437564]]\n",
      "[[ -1.48138558e+03  -6.14352648e+02  -7.81464404e+02  -1.74780985e+03]\n",
      " [ -2.09573822e+03  -1.22870530e+03  -1.39581705e+03  -2.36216250e+03]\n",
      " [ -2.71009087e+03  -1.84305794e+03  -2.01016970e+03  -2.97651515e+03]\n",
      " ..., \n",
      " [ -6.14316481e+06  -6.14229777e+06  -6.14246488e+06  -6.14343123e+06]\n",
      " [ -6.14377916e+06  -6.14291213e+06  -6.14307924e+06  -6.14404558e+06]\n",
      " [ -6.14439351e+06  -6.14352648e+06  -6.14369359e+06  -6.14465994e+06]]\n",
      "[-3.65023771 -3.65023771 -3.65023771 -3.65023771]\n"
     ]
    }
   ],
   "source": [
    "print(hmm._ln_lik)\n",
    "print(hmm._ln_alpha)\n",
    "print(hmm._aux_pi)"
   ]
  },
  {
   "cell_type": "code",
   "execution_count": 31,
   "metadata": {
    "collapsed": false
   },
   "outputs": [],
   "source": [
    "hmm._local_update()"
   ]
  },
  {
   "cell_type": "code",
   "execution_count": 28,
   "metadata": {
    "collapsed": true
   },
   "outputs": [],
   "source": [
    "hmm._global_update()"
   ]
  },
  {
   "cell_type": "code",
   "execution_count": 29,
   "metadata": {
    "collapsed": false
   },
   "outputs": [
    {
     "data": {
      "text/plain": [
       "array([[  3.43446504e-268,   1.00000000e+000,   3.43446504e-268,\n",
       "          3.43446504e-268],\n",
       "       [  1.36218926e-275,   1.00000000e+000,   1.36218926e-275,\n",
       "          1.36218926e-275],\n",
       "       [  1.36218926e-275,   1.00000000e+000,   1.36218926e-275,\n",
       "          1.36218926e-275],\n",
       "       ..., \n",
       "       [  1.36218926e-275,   1.00000000e+000,   1.36218926e-275,\n",
       "          1.36218926e-275],\n",
       "       [  1.36218926e-275,   1.00000000e+000,   1.36218926e-275,\n",
       "          1.36218926e-275],\n",
       "       [  5.24221974e-274,   1.00000000e+000,   5.24221974e-274,\n",
       "          5.24221974e-274]])"
      ]
     },
     "execution_count": 29,
     "metadata": {},
     "output_type": "execute_result"
    }
   ],
   "source": [
    "hmm._marginal"
   ]
  },
  {
   "cell_type": "code",
   "execution_count": 26,
   "metadata": {
    "collapsed": false
   },
   "outputs": [
    {
     "data": {
      "image/png": "[encoded data removed]",
      "text/plain": [
       "<matplotlib.figure.Figure at 0x11328b1d0>"
      ]
     },
     "metadata": {},
     "output_type": "display_data"
    }
   ],
   "source": [
    "plt.scatter(data[:,0], data[:,1])\n",
    "plt.show()"
   ]
  },
  {
   "cell_type": "code",
   "execution_count": 62,
   "metadata": {
    "collapsed": false
   },
   "outputs": [],
   "source": [
    "a = np.array([[0,0,0,0],[1,1,1,1],[2,2,2,2]])\n",
    "b = np.array([1,1,1,1])"
   ]
  },
  {
   "cell_type": "code",
   "execution_count": 64,
   "metadata": {
    "collapsed": false
   },
   "outputs": [
    {
     "data": {
      "text/plain": [
       "array([ 4,  8, 12])"
      ]
     },
     "execution_count": 64,
     "metadata": {},
     "output_type": "execute_result"
    }
   ],
   "source": [
    "np.sum(a + b, axis=1"
   ]
  },
  {
   "cell_type": "code",
   "execution_count": null,
   "metadata": {
    "collapsed": false
   },
   "outputs": [],
   "source": []
  },
  {
   "cell_type": "code",
   "execution_count": null,
   "metadata": {
    "collapsed": true
   },
   "outputs": [],
   "source": []
  }
 ],
 "metadata": {
  "anaconda-cloud": {},
  "kernelspec": {
   "display_name": "Python [conda env:python3.5]",
   "language": "python",
   "name": "conda-env-python3.5-py"
  },
  "language_info": {
   "codemirror_mode": {
    "name": "ipython",
    "version": 3
   },
   "file_extension": ".py",
   "mimetype": "text/x-python",
   "name": "python",
   "nbconvert_exporter": "python",
   "pygments_lexer": "ipython3",
   "version": "3.5.2"
  },
  "nbpresent": {
   "slides": {},
   "themes": {
    "default": "be0764e7-b546-4f16-bd63-085cb586cb16",
    "theme": {
     "be0764e7-b546-4f16-bd63-085cb586cb16": {
      "id": "be0764e7-b546-4f16-bd63-085cb586cb16",
      "palette": {
       "19cc588f-0593-49c9-9f4b-e4d7cc113b1c": {
        "id": "19cc588f-0593-49c9-9f4b-e4d7cc113b1c",
        "rgb": [
         252,
         252,
         252
        ]
       },
       "31af15d2-7e15-44c5-ab5e-e04b16a89eff": {
        "id": "31af15d2-7e15-44c5-ab5e-e04b16a89eff",
        "rgb": [
         68,
         68,
         68
        ]
       },
       "50f92c45-a630-455b-aec3-788680ec7410": {
        "id": "50f92c45-a630-455b-aec3-788680ec7410",
        "rgb": [
         155,
         177,
         192
        ]
       },
       "c5cc3653-2ee1-402a-aba2-7caae1da4f6c": {
        "id": "c5cc3653-2ee1-402a-aba2-7caae1da4f6c",
        "rgb": [
         43,
         126,
         184
        ]
       },
       "efa7f048-9acb-414c-8b04-a26811511a21": {
        "id": "efa7f048-9acb-414c-8b04-a26811511a21",
        "rgb": [
         25.118061674008803,
         73.60176211453744,
         107.4819383259912
        ]
       }
      },
      "rules": {
       "blockquote": {
        "color": "50f92c45-a630-455b-aec3-788680ec7410"
       },
       "code": {
        "font-family": "Anonymous Pro"
       },
       "h1": {
        "color": "c5cc3653-2ee1-402a-aba2-7caae1da4f6c",
        "font-family": "Lato",
        "font-size": 8
       },
       "h2": {
        "color": "c5cc3653-2ee1-402a-aba2-7caae1da4f6c",
        "font-family": "Lato",
        "font-size": 6
       },
       "h3": {
        "color": "50f92c45-a630-455b-aec3-788680ec7410",
        "font-family": "Lato",
        "font-size": 5.5
       },
       "h4": {
        "color": "c5cc3653-2ee1-402a-aba2-7caae1da4f6c",
        "font-family": "Lato",
        "font-size": 5
       },
       "h5": {
        "font-family": "Lato"
       },
       "h6": {
        "font-family": "Lato"
       },
       "h7": {
        "font-family": "Lato"
       },
       "pre": {
        "font-family": "Anonymous Pro",
        "font-size": 4
       }
      },
      "text-base": {
       "font-family": "Merriweather",
       "font-size": 4
      }
     }
    }
   }
  }
 },
 "nbformat": 4,
 "nbformat_minor": 1
}
