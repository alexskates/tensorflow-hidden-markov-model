{
 "cells": [
  {
   "cell_type": "code",
   "execution_count": 1,
   "metadata": {
    "collapsed": false
   },
   "outputs": [
    {
     "ename": "IndentationError",
     "evalue": "unexpected indent (hmm_natural_gradient.py, line 131)",
     "output_type": "error",
     "traceback": [
      "\u001b[0;36m  File \u001b[0;32m\"/Users/askates/Documents/Projects/hidden-markov-model/src/hmm_natural_gradient.py\"\u001b[0;36m, line \u001b[0;32m131\u001b[0m\n\u001b[0;31m    self._local_update()\u001b[0m\n\u001b[0m    ^\u001b[0m\n\u001b[0;31mIndentationError\u001b[0m\u001b[0;31m:\u001b[0m unexpected indent\n"
     ]
    }
   ],
   "source": [
    "import tensorflow as tf\n",
    "import numpy as np\n",
    "from src.utilities import *\n",
    "from src.hmm_base_class import _HMM\n",
    "from src.hmm_natural_gradient import VB_HMM\n",
    "import time"
   ]
  },
  {
   "cell_type": "code",
   "execution_count": 2,
   "metadata": {
    "collapsed": false
   },
   "outputs": [],
   "source": [
    "N = 5\n",
    "D = 4\n",
    "K =4\n",
    "\n",
    "class HMM:\n",
    "    def __init__(self):\n",
    "        pass\n",
    "\n",
    "    def simulate(self,nSteps):\n",
    "        def drawFromMultinomial(t):\n",
    "            return np.where(np.random.multinomial(1,t) == 1)[0][0]\n",
    "\n",
    "        states = np.zeros(nSteps, dtype=np.int)\n",
    "\n",
    "        # Initial values. For sake of simplicity, there is only one initial prob vector\n",
    "        states[0] = drawFromMultinomial(self.pi)\n",
    "\n",
    "        for i in range(1,nSteps):\n",
    "            states[i] = drawFromMultinomial(self.t[states[i-1],:])\n",
    "        return states\n",
    "\n",
    "hmm = HMM()\n",
    "hmm.pi = np.array([0.25, 0.25, 0.25, 0.25])\n",
    "hmm.t = np.array([\n",
    "    [0.97, 0.03, 0.0, 0.0],\n",
    "    [0.00, 0.97, 0.03, 0.],\n",
    "    [0.0, 0.0, 0.97, 0.3],\n",
    "    [0.3, 0.0, 0.0, 0.97]])\n",
    "\n",
    "mu = np.array([[0.]*D,[1.]*D,[2.]*D,[3.]*D,])\n",
    "\n",
    "\n",
    "distributions = []\n",
    "for i in range(4):\n",
    "    distributions.append(np.random.multivariate_normal(mu[i], np.eye(4), N).T)\n",
    "\n",
    "state_seq = hmm.simulate(N)\n",
    "\n",
    "data = np.zeros([4, N])\n",
    "for i in range(4):\n",
    "    data += (state_seq==i)*distributions[i]\n",
    "    \n",
    "# Observations should be T X D format\n",
    "data = data.T\n",
    "\n",
    "# Emission prior\n",
    "mu_0 = np.zeros(D)\n",
    "sigma_0 = 0.75*np.cov(data.T)\n",
    "kappa_0 = 0.01\n",
    "nu_0 = 7\n",
    "\n",
    "prior_emit = [np.array([mu_0] * K), np.array([sigma_0] * K), np.array([kappa_0] * K), np.array([nu_0] * K)]\n",
    "\n",
    "# Initial and transition matrix prior\n",
    "A_0 = np.ones(K*K).reshape((K,K))\n",
    "pi_0 = np.ones(K)"
   ]
  },
  {
   "cell_type": "code",
   "execution_count": 3,
   "metadata": {
    "collapsed": false
   },
   "outputs": [],
   "source": [
    "hmm = VB_HMM(data, pi_0, A_0, prior_emit)"
   ]
  },
  {
   "cell_type": "code",
   "execution_count": null,
   "metadata": {
    "collapsed": false
   },
   "outputs": [
    {
     "name": "stdout",
     "output_type": "stream",
     "text": [
      "test1\n"
     ]
    }
   ],
   "source": [
    "hmm.infer()"
   ]
  },
  {
   "cell_type": "code",
   "execution_count": 5,
   "metadata": {
    "collapsed": false
   },
   "outputs": [],
   "source": [
    "def em_step():\n",
    "    hmm._local_update()\n",
    "    hmm._global_update()\n",
    "\n",
    "    lb = hmm._lower_bound()\n",
    "    converged = tf.abs(lb - hmm._elbo) < hmm._epsilon\n",
    "    hmm._elbo = tf.assign(hmm._elbo, lb)\n",
    "    \n",
    "    return converged, lb\n",
    "\n",
    "def apply_em():\n",
    "    \n",
    "    converged = tf.cast(False, tf.bool)\n",
    "    lower_bound = tf.constant([0], dtype=tf.float32)\n",
    "\n",
    "    for i in range(hmm._max_iter):\n",
    "        with tf.name_scope('EM_step-%s' %i):\n",
    "            converged, lower_bound = em_step()\n",
    "    \n",
    "    return converged, lower_bound\n",
    "\n",
    "conv, lb = apply_em()"
   ]
  },
  {
   "cell_type": "code",
   "execution_count": 10,
   "metadata": {
    "collapsed": false
   },
   "outputs": [
    {
     "data": {
      "text/plain": [
       "[array([[ 0.,  0.,  0.,  0.],\n",
       "        [ 0.,  0.,  0.,  0.],\n",
       "        [ 0.,  0.,  0.,  0.],\n",
       "        [ 0.,  0.,  0.,  0.],\n",
       "        [ 0.,  0.,  0.,  0.]], dtype=float32), array([[ 0.,  0.,  0.,  0.],\n",
       "        [ 0.,  0.,  0.,  0.],\n",
       "        [ 0.,  0.,  0.,  0.],\n",
       "        [ 0.,  0.,  0.,  0.],\n",
       "        [ 0.,  0.,  0.,  0.]], dtype=float32), array([[ 0.],\n",
       "        [ 0.],\n",
       "        [ 0.],\n",
       "        [ 0.],\n",
       "        [ 0.]], dtype=float32), True, -497.27838]"
      ]
     },
     "execution_count": 10,
     "metadata": {},
     "output_type": "execute_result"
    }
   ],
   "source": [
    "sess = tf.InteractiveSession()\n",
    "sess.run(tf.global_variables_initializer())\n",
    "sess.run([hmm._ln_alpha, hmm._ln_beta, hmm._ln_scale , conv, lb])"
   ]
  },
  {
   "cell_type": "code",
   "execution_count": 7,
   "metadata": {
    "collapsed": false
   },
   "outputs": [
    {
     "data": {
      "text/plain": [
       "-497.27838"
      ]
     },
     "execution_count": 7,
     "metadata": {},
     "output_type": "execute_result"
    }
   ],
   "source": [
    "lb.eval()"
   ]
  },
  {
   "cell_type": "code",
   "execution_count": 9,
   "metadata": {
    "collapsed": false
   },
   "outputs": [
    {
     "data": {
      "text/plain": [
       "array([[ 0.,  0.,  0.,  0.],\n",
       "       [ 0.,  0.,  0.,  0.],\n",
       "       [ 0.,  0.,  0.,  0.],\n",
       "       [ 0.,  0.,  0.,  0.],\n",
       "       [ 0.,  0.,  0.,  0.]], dtype=float32)"
      ]
     },
     "execution_count": 9,
     "metadata": {},
     "output_type": "execute_result"
    }
   ],
   "source": [
    "hmm._ln_alpha.eval()"
   ]
  },
  {
   "cell_type": "code",
   "execution_count": null,
   "metadata": {
    "collapsed": false
   },
   "outputs": [],
   "source": []
  },
  {
   "cell_type": "code",
   "execution_count": null,
   "metadata": {
    "collapsed": false
   },
   "outputs": [],
   "source": []
  },
  {
   "cell_type": "code",
   "execution_count": 45,
   "metadata": {
    "collapsed": false
   },
   "outputs": [
    {
     "ename": "TypeError",
     "evalue": "'Tensor' object does not support item assignment",
     "output_type": "error",
     "traceback": [
      "\u001b[0;31m---------------------------------------------------------------------------\u001b[0m",
      "\u001b[0;31mTypeError\u001b[0m                                 Traceback (most recent call last)",
      "\u001b[0;32m<ipython-input-45-699a2a22ecde>\u001b[0m in \u001b[0;36m<module>\u001b[0;34m()\u001b[0m\n\u001b[0;32m----> 1\u001b[0;31m \u001b[0mdata\u001b[0m\u001b[0;34m[\u001b[0m\u001b[0;36m3\u001b[0m\u001b[0;34m]\u001b[0m \u001b[0;34m=\u001b[0m \u001b[0;36m2\u001b[0m\u001b[0;34m\u001b[0m\u001b[0m\n\u001b[0m",
      "\u001b[0;31mTypeError\u001b[0m: 'Tensor' object does not support item assignment"
     ]
    }
   ],
   "source": []
  },
  {
   "cell_type": "code",
   "execution_count": null,
   "metadata": {
    "collapsed": false
   },
   "outputs": [],
   "source": []
  },
  {
   "cell_type": "code",
   "execution_count": null,
   "metadata": {
    "collapsed": false
   },
   "outputs": [],
   "source": []
  },
  {
   "cell_type": "code",
   "execution_count": null,
   "metadata": {
    "collapsed": false
   },
   "outputs": [],
   "source": []
  },
  {
   "cell_type": "code",
   "execution_count": 15,
   "metadata": {
    "collapsed": false
   },
   "outputs": [],
   "source": []
  },
  {
   "cell_type": "code",
   "execution_count": null,
   "metadata": {
    "collapsed": false
   },
   "outputs": [],
   "source": []
  },
  {
   "cell_type": "code",
   "execution_count": null,
   "metadata": {
    "collapsed": false
   },
   "outputs": [],
   "source": []
  },
  {
   "cell_type": "code",
   "execution_count": null,
   "metadata": {
    "collapsed": false
   },
   "outputs": [],
   "source": []
  },
  {
   "cell_type": "code",
   "execution_count": null,
   "metadata": {
    "collapsed": false
   },
   "outputs": [],
   "source": []
  },
  {
   "cell_type": "code",
   "execution_count": null,
   "metadata": {
    "collapsed": false
   },
   "outputs": [],
   "source": []
  },
  {
   "cell_type": "code",
   "execution_count": null,
   "metadata": {
    "collapsed": true
   },
   "outputs": [],
   "source": []
  }
 ],
 "metadata": {
  "anaconda-cloud": {},
  "kernelspec": {
   "display_name": "Python [conda env:python3.5]",
   "language": "python",
   "name": "conda-env-python3.5-py"
  },
  "nbpresent": {
   "slides": {},
   "themes": {
    "default": "be0764e7-b546-4f16-bd63-085cb586cb16",
    "theme": {
     "be0764e7-b546-4f16-bd63-085cb586cb16": {
      "id": "be0764e7-b546-4f16-bd63-085cb586cb16",
      "palette": {
       "19cc588f-0593-49c9-9f4b-e4d7cc113b1c": {
        "id": "19cc588f-0593-49c9-9f4b-e4d7cc113b1c",
        "rgb": [
         252,
         252,
         252
        ]
       },
       "31af15d2-7e15-44c5-ab5e-e04b16a89eff": {
        "id": "31af15d2-7e15-44c5-ab5e-e04b16a89eff",
        "rgb": [
         68,
         68,
         68
        ]
       },
       "50f92c45-a630-455b-aec3-788680ec7410": {
        "id": "50f92c45-a630-455b-aec3-788680ec7410",
        "rgb": [
         155,
         177,
         192
        ]
       },
       "c5cc3653-2ee1-402a-aba2-7caae1da4f6c": {
        "id": "c5cc3653-2ee1-402a-aba2-7caae1da4f6c",
        "rgb": [
         43,
         126,
         184
        ]
       },
       "efa7f048-9acb-414c-8b04-a26811511a21": {
        "id": "efa7f048-9acb-414c-8b04-a26811511a21",
        "rgb": [
         25.118061674008803,
         73.60176211453744,
         107.4819383259912
        ]
       }
      },
      "rules": {
       "blockquote": {
        "color": "50f92c45-a630-455b-aec3-788680ec7410"
       },
       "code": {
        "font-family": "Anonymous Pro"
       },
       "h1": {
        "color": "c5cc3653-2ee1-402a-aba2-7caae1da4f6c",
        "font-family": "Lato",
        "font-size": 8
       },
       "h2": {
        "color": "c5cc3653-2ee1-402a-aba2-7caae1da4f6c",
        "font-family": "Lato",
        "font-size": 6
       },
       "h3": {
        "color": "50f92c45-a630-455b-aec3-788680ec7410",
        "font-family": "Lato",
        "font-size": 5.5
       },
       "h4": {
        "color": "c5cc3653-2ee1-402a-aba2-7caae1da4f6c",
        "font-family": "Lato",
        "font-size": 5
       },
       "h5": {
        "font-family": "Lato"
       },
       "h6": {
        "font-family": "Lato"
       },
       "h7": {
        "font-family": "Lato"
       },
       "pre": {
        "font-family": "Anonymous Pro",
        "font-size": 4
       }
      },
      "text-base": {
       "font-family": "Merriweather",
       "font-size": 4
      }
     }
    }
   }
  }
 },
 "nbformat": 4,
 "nbformat_minor": 1
}
